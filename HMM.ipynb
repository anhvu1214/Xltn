{
  "nbformat": 4,
  "nbformat_minor": 0,
  "metadata": {
    "colab": {
      "name": "HMM.ipynb",
      "provenance": [],
      "authorship_tag": "ABX9TyOJEzTaZlShdniN3gFaZfFh",
      "include_colab_link": true
    },
    "kernelspec": {
      "name": "python3",
      "display_name": "Python 3"
    },
    "language_info": {
      "name": "python"
    }
  },
  "cells": [
    {
      "cell_type": "markdown",
      "metadata": {
        "id": "view-in-github",
        "colab_type": "text"
      },
      "source": [
        "<a href=\"https://colab.research.google.com/github/anhvu1214/Xltn/blob/main/HMM.ipynb\" target=\"_parent\"><img src=\"https://colab.research.google.com/assets/colab-badge.svg\" alt=\"Open In Colab\"/></a>"
      ]
    },
    {
      "cell_type": "code",
      "execution_count": 22,
      "metadata": {
        "colab": {
          "base_uri": "https://localhost:8080/"
        },
        "id": "SbnVKyU1F-zA",
        "outputId": "5d2a2ecc-34d1-420a-aa59-b9d071b381aa"
      },
      "outputs": [
        {
          "output_type": "stream",
          "name": "stdout",
          "text": [
            "Requirement already satisfied: hmmlearn in /usr/local/lib/python3.7/dist-packages (0.2.7)\n",
            "Requirement already satisfied: scipy>=0.19 in /usr/local/lib/python3.7/dist-packages (from hmmlearn) (1.4.1)\n",
            "Requirement already satisfied: scikit-learn>=0.16 in /usr/local/lib/python3.7/dist-packages (from hmmlearn) (1.0.2)\n",
            "Requirement already satisfied: numpy>=1.10 in /usr/local/lib/python3.7/dist-packages (from hmmlearn) (1.21.6)\n",
            "Requirement already satisfied: joblib>=0.11 in /usr/local/lib/python3.7/dist-packages (from scikit-learn>=0.16->hmmlearn) (1.1.0)\n",
            "Requirement already satisfied: threadpoolctl>=2.0.0 in /usr/local/lib/python3.7/dist-packages (from scikit-learn>=0.16->hmmlearn) (3.1.0)\n"
          ]
        }
      ],
      "source": [
        "!pip install hmmlearn\n",
        "import os\n",
        "import librosa\n",
        "import math\n",
        "import pickle\n",
        "import numpy as np\n",
        "import hmmlearn.hmm\n",
        "import hmmlearn.hmm as hmm\n",
        "from sklearn.cluster import KMeans\n",
        "from sklearn.model_selection import train_test_split\n",
        "from sklearn.metrics import classification_report"
      ]
    },
    {
      "cell_type": "code",
      "source": [
        "class_names = ['A', 'B', 'ban', 'len', 'nhay', 'phai', 'trai', 'xuong', 'sil']\n",
        "states = [3, 3, 6, 6, 6, 6, 6, 9, 6]\n",
        "\n",
        "def get_mfcc(file_path):\n",
        "    y, sr = librosa.load(file_path) \n",
        "    hop_length = math.floor(sr*0.010) \n",
        "    win_length = math.floor(sr*0.025)\n",
        "\n",
        "    mfcc = librosa.feature.mfcc(y, sr, n_mfcc=12, n_fft=1024, hop_length=hop_length, win_length=win_length)\n",
        " \n",
        "    mfcc = mfcc - np.mean(mfcc, axis=1).reshape((-1,1)) \n",
        "\n",
        "    delta1 = librosa.feature.delta(mfcc, order=1)\n",
        "    delta2 = librosa.feature.delta(mfcc, order=2)\n",
        "\n",
        "    X = np.concatenate([mfcc, delta1, delta2], axis=0) \n",
        "\n",
        "    return X.T \n",
        "    \n",
        "length = 0\n",
        "for d in class_names:\n",
        "    length += len(os.listdir(\"/content/drive/MyDrive/Hoc/Xltn/data/\" + d))\n",
        "print(length)"
      ],
      "metadata": {
        "colab": {
          "base_uri": "https://localhost:8080/"
        },
        "id": "7obRdZpmKT4U",
        "outputId": "45805e4c-6174-423b-aff6-96d5c486fdcd"
      },
      "execution_count": 15,
      "outputs": [
        {
          "output_type": "stream",
          "name": "stdout",
          "text": [
            "70\n"
          ]
        }
      ]
    },
    {
      "cell_type": "code",
      "source": [
        "all_data = {}\n",
        "all_labels = {}\n",
        "for cname in class_names:\n",
        "    file_paths = [os.path.join(\"/content/drive/MyDrive/Hoc/Xltn/data/\", cname, i) for i in os.listdir(os.path.join('/content/drive/MyDrive/Hoc/Xltn/data/', cname)) if i.endswith('.wav')]\n",
        "    data = [get_mfcc(file_path) for file_path in file_paths]\n",
        "    all_data[cname] = data\n",
        "    all_labels[cname] = [class_names.index(cname) for i in range(len(file_paths))]\n",
        "  \n",
        "X = {'train': {}, 'test': {}}\n",
        "y = {'train': {}, 'test': {}}\n",
        "for cname in class_names:\n",
        "    x_train, x_test, _, y_test = train_test_split(\n",
        "        all_data[cname], all_labels[cname], \n",
        "        test_size = 0.33, \n",
        "        random_state=42\n",
        "    )\n",
        "    X['train'][cname] = x_train\n",
        "    X['test'][cname] = x_test\n",
        "    y['test'][cname] = y_test\n",
        "    \n",
        "for cname in class_names:\n",
        "    print(cname, len(X['train'][cname]), len(X['test'][cname]), len(y['test'][cname]))"
      ],
      "metadata": {
        "id": "3b2Azjr2HUml",
        "colab": {
          "base_uri": "https://localhost:8080/"
        },
        "outputId": "df507276-94d4-4df8-fdee-2b0408632d55"
      },
      "execution_count": 16,
      "outputs": [
        {
          "output_type": "stream",
          "name": "stdout",
          "text": [
            "A 6 4 4\n",
            "B 2 2 2\n",
            "ban 4 2 2\n",
            "len 5 3 3\n",
            "nhay 4 2 2\n",
            "phai 6 4 4\n",
            "trai 5 3 3\n",
            "xuong 5 3 3\n",
            "sil 6 4 4\n"
          ]
        }
      ]
    },
    {
      "cell_type": "code",
      "source": [
        "model = {}\n",
        "for idx, cname in enumerate(class_names):\n",
        "    start_prob = np.full(states[idx], 0.0)\n",
        "    start_prob[0] = 1.0\n",
        "    trans_matrix = np.full((states[idx], states[idx]), 0.0)\n",
        "    p = 0.5\n",
        "    np.fill_diagonal(trans_matrix, p)\n",
        "    np.fill_diagonal(trans_matrix[0:, 1:], 1 - p)\n",
        "    trans_matrix[-1, -1] = 1.0\n",
        "    \n",
        "    #trans matrix\n",
        "    print(cname)\n",
        "    print(trans_matrix) \n",
        "\n",
        "    # model[cname] = hmm.GaussianHMM(\n",
        "    #     n_components=states[idx], \n",
        "    #     verbose=True, \n",
        "    #     n_iter=300, \n",
        "    #     startprob_prior=start_prob, \n",
        "    #     transmat_prior=trans_matrix,\n",
        "    #     params='stmc',\n",
        "    #     init_params='mc',\n",
        "    #     random_state=42\n",
        "    # )\n",
        "    model[cname] = hmm.GMMHMM(n_components=states[idx], n_mix=6,\n",
        "                           transmat_prior=trans_matrix, startprob_prior=start_prob,\n",
        "                           covariance_type='diag', n_iter=300)\n",
        "\n",
        "    model[cname].fit(X=np.vstack(X['train'][cname]), lengths=[x.shape[0] for x in X['train'][cname]])"
      ],
      "metadata": {
        "colab": {
          "base_uri": "https://localhost:8080/"
        },
        "id": "V3bi0rivKtCQ",
        "outputId": "4de21bcb-f30b-41f4-ea44-01dc11a9feaa"
      },
      "execution_count": 21,
      "outputs": [
        {
          "output_type": "stream",
          "name": "stdout",
          "text": [
            "A\n",
            "[[0.5 0.5 0. ]\n",
            " [0.  0.5 0.5]\n",
            " [0.  0.  1. ]]\n",
            "B\n",
            "[[0.5 0.5 0. ]\n",
            " [0.  0.5 0.5]\n",
            " [0.  0.  1. ]]\n"
          ]
        },
        {
          "output_type": "stream",
          "name": "stderr",
          "text": [
            "/usr/local/lib/python3.7/dist-packages/hmmlearn/hmm.py:1051: RuntimeWarning: divide by zero encountered in true_divide\n",
            "  self.covars_ = c_n / c_d\n",
            "/usr/local/lib/python3.7/dist-packages/hmmlearn/hmm.py:1051: RuntimeWarning: invalid value encountered in true_divide\n",
            "  self.covars_ = c_n / c_d\n",
            "/usr/local/lib/python3.7/dist-packages/scipy/special/_logsumexp.py:112: RuntimeWarning: overflow encountered in exp\n",
            "  tmp = np.exp(a - a_max)\n"
          ]
        },
        {
          "output_type": "stream",
          "name": "stdout",
          "text": [
            "ban\n",
            "[[0.5 0.5 0.  0.  0.  0. ]\n",
            " [0.  0.5 0.5 0.  0.  0. ]\n",
            " [0.  0.  0.5 0.5 0.  0. ]\n",
            " [0.  0.  0.  0.5 0.5 0. ]\n",
            " [0.  0.  0.  0.  0.5 0.5]\n",
            " [0.  0.  0.  0.  0.  1. ]]\n"
          ]
        },
        {
          "output_type": "stream",
          "name": "stderr",
          "text": [
            "/usr/local/lib/python3.7/dist-packages/hmmlearn/hmm.py:1051: RuntimeWarning: invalid value encountered in true_divide\n",
            "  self.covars_ = c_n / c_d\n",
            "/usr/local/lib/python3.7/dist-packages/hmmlearn/hmm.py:887: RuntimeWarning: divide by zero encountered in log\n",
            "  log_cur_weights = np.log(self.weights_[i_comp])\n"
          ]
        },
        {
          "output_type": "stream",
          "name": "stdout",
          "text": [
            "len\n",
            "[[0.5 0.5 0.  0.  0.  0. ]\n",
            " [0.  0.5 0.5 0.  0.  0. ]\n",
            " [0.  0.  0.5 0.5 0.  0. ]\n",
            " [0.  0.  0.  0.5 0.5 0. ]\n",
            " [0.  0.  0.  0.  0.5 0.5]\n",
            " [0.  0.  0.  0.  0.  1. ]]\n"
          ]
        },
        {
          "output_type": "stream",
          "name": "stderr",
          "text": [
            "/usr/local/lib/python3.7/dist-packages/hmmlearn/hmm.py:1051: RuntimeWarning: invalid value encountered in true_divide\n",
            "  self.covars_ = c_n / c_d\n",
            "/usr/local/lib/python3.7/dist-packages/hmmlearn/hmm.py:887: RuntimeWarning: divide by zero encountered in log\n",
            "  log_cur_weights = np.log(self.weights_[i_comp])\n",
            "/usr/local/lib/python3.7/dist-packages/scipy/special/_logsumexp.py:112: RuntimeWarning: overflow encountered in exp\n",
            "  tmp = np.exp(a - a_max)\n"
          ]
        },
        {
          "output_type": "stream",
          "name": "stdout",
          "text": [
            "nhay\n",
            "[[0.5 0.5 0.  0.  0.  0. ]\n",
            " [0.  0.5 0.5 0.  0.  0. ]\n",
            " [0.  0.  0.5 0.5 0.  0. ]\n",
            " [0.  0.  0.  0.5 0.5 0. ]\n",
            " [0.  0.  0.  0.  0.5 0.5]\n",
            " [0.  0.  0.  0.  0.  1. ]]\n"
          ]
        },
        {
          "output_type": "stream",
          "name": "stderr",
          "text": [
            "/usr/local/lib/python3.7/dist-packages/hmmlearn/hmm.py:1051: RuntimeWarning: divide by zero encountered in true_divide\n",
            "  self.covars_ = c_n / c_d\n",
            "/usr/local/lib/python3.7/dist-packages/hmmlearn/hmm.py:1051: RuntimeWarning: invalid value encountered in true_divide\n",
            "  self.covars_ = c_n / c_d\n",
            "/usr/local/lib/python3.7/dist-packages/hmmlearn/hmm.py:887: RuntimeWarning: divide by zero encountered in log\n",
            "  log_cur_weights = np.log(self.weights_[i_comp])\n"
          ]
        },
        {
          "output_type": "stream",
          "name": "stdout",
          "text": [
            "phai\n",
            "[[0.5 0.5 0.  0.  0.  0. ]\n",
            " [0.  0.5 0.5 0.  0.  0. ]\n",
            " [0.  0.  0.5 0.5 0.  0. ]\n",
            " [0.  0.  0.  0.5 0.5 0. ]\n",
            " [0.  0.  0.  0.  0.5 0.5]\n",
            " [0.  0.  0.  0.  0.  1. ]]\n",
            "trai\n",
            "[[0.5 0.5 0.  0.  0.  0. ]\n",
            " [0.  0.5 0.5 0.  0.  0. ]\n",
            " [0.  0.  0.5 0.5 0.  0. ]\n",
            " [0.  0.  0.  0.5 0.5 0. ]\n",
            " [0.  0.  0.  0.  0.5 0.5]\n",
            " [0.  0.  0.  0.  0.  1. ]]\n"
          ]
        },
        {
          "output_type": "stream",
          "name": "stderr",
          "text": [
            "/usr/local/lib/python3.7/dist-packages/hmmlearn/hmm.py:1051: RuntimeWarning: divide by zero encountered in true_divide\n",
            "  self.covars_ = c_n / c_d\n",
            "/usr/local/lib/python3.7/dist-packages/hmmlearn/hmm.py:1051: RuntimeWarning: invalid value encountered in true_divide\n",
            "  self.covars_ = c_n / c_d\n",
            "/usr/local/lib/python3.7/dist-packages/hmmlearn/hmm.py:887: RuntimeWarning: divide by zero encountered in log\n",
            "  log_cur_weights = np.log(self.weights_[i_comp])\n",
            "/usr/local/lib/python3.7/dist-packages/scipy/special/_logsumexp.py:112: RuntimeWarning: overflow encountered in exp\n",
            "  tmp = np.exp(a - a_max)\n"
          ]
        },
        {
          "output_type": "stream",
          "name": "stdout",
          "text": [
            "xuong\n",
            "[[0.5 0.5 0.  0.  0.  0.  0.  0.  0. ]\n",
            " [0.  0.5 0.5 0.  0.  0.  0.  0.  0. ]\n",
            " [0.  0.  0.5 0.5 0.  0.  0.  0.  0. ]\n",
            " [0.  0.  0.  0.5 0.5 0.  0.  0.  0. ]\n",
            " [0.  0.  0.  0.  0.5 0.5 0.  0.  0. ]\n",
            " [0.  0.  0.  0.  0.  0.5 0.5 0.  0. ]\n",
            " [0.  0.  0.  0.  0.  0.  0.5 0.5 0. ]\n",
            " [0.  0.  0.  0.  0.  0.  0.  0.5 0.5]\n",
            " [0.  0.  0.  0.  0.  0.  0.  0.  1. ]]\n"
          ]
        },
        {
          "output_type": "stream",
          "name": "stderr",
          "text": [
            "/usr/local/lib/python3.7/dist-packages/hmmlearn/hmm.py:1051: RuntimeWarning: divide by zero encountered in true_divide\n",
            "  self.covars_ = c_n / c_d\n",
            "/usr/local/lib/python3.7/dist-packages/hmmlearn/hmm.py:1051: RuntimeWarning: invalid value encountered in true_divide\n",
            "  self.covars_ = c_n / c_d\n",
            "/usr/local/lib/python3.7/dist-packages/hmmlearn/hmm.py:887: RuntimeWarning: divide by zero encountered in log\n",
            "  log_cur_weights = np.log(self.weights_[i_comp])\n",
            "/usr/local/lib/python3.7/dist-packages/scipy/special/_logsumexp.py:112: RuntimeWarning: overflow encountered in exp\n",
            "  tmp = np.exp(a - a_max)\n"
          ]
        },
        {
          "output_type": "stream",
          "name": "stdout",
          "text": [
            "sil\n",
            "[[0.5 0.5 0.  0.  0.  0. ]\n",
            " [0.  0.5 0.5 0.  0.  0. ]\n",
            " [0.  0.  0.5 0.5 0.  0. ]\n",
            " [0.  0.  0.  0.5 0.5 0. ]\n",
            " [0.  0.  0.  0.  0.5 0.5]\n",
            " [0.  0.  0.  0.  0.  1. ]]\n"
          ]
        },
        {
          "output_type": "stream",
          "name": "stderr",
          "text": [
            "/usr/local/lib/python3.7/dist-packages/hmmlearn/hmm.py:986: RuntimeWarning: invalid value encountered in true_divide\n",
            "  self.weights_ = w_n / w_d\n",
            "/usr/local/lib/python3.7/dist-packages/hmmlearn/hmm.py:998: RuntimeWarning: invalid value encountered in true_divide\n",
            "  self.means_ = m_n / m_d[:, :, None]\n",
            "Some rows of transmat_ have zero sum because no transition from the state was ever observed.\n"
          ]
        }
      ]
    },
    {
      "cell_type": "code",
      "source": [
        "for cname in class_names:\n",
        "    name = f'models_train\\model_{cname}.pkl'\n",
        "    with open(name, 'wb') as file: \n",
        "        pickle.dump(model[cname], file)"
      ],
      "metadata": {
        "id": "6CNhH7DETX1e"
      },
      "execution_count": 23,
      "outputs": []
    },
    {
      "cell_type": "code",
      "source": [
        "y_true = []\n",
        "y_pred = []\n",
        "for cname in class_names:\n",
        "    for mfcc, target in zip(X['test'][cname], y['test'][cname]):\n",
        "        scores = [model[cname].score(mfcc) for cname in class_names]\n",
        "        pred = np.argmax(scores)\n",
        "        y_pred.append(pred)\n",
        "        y_true.append(target)\n",
        "    print((np.array(y_true) == np.array(y_pred)).sum()/len(y_true))\n",
        "print(y_true)\n",
        "print(y_pred)"
      ],
      "metadata": {
        "colab": {
          "base_uri": "https://localhost:8080/",
          "height": 397
        },
        "id": "8EgUhyBDTdnE",
        "outputId": "577c7a19-fa4c-4601-d148-e810d99ae69a"
      },
      "execution_count": 24,
      "outputs": [
        {
          "output_type": "stream",
          "name": "stderr",
          "text": [
            "Degenerate mixture covariance\n"
          ]
        },
        {
          "output_type": "error",
          "ename": "ValueError",
          "evalue": "ignored",
          "traceback": [
            "\u001b[0;31m---------------------------------------------------------------------------\u001b[0m",
            "\u001b[0;31mValueError\u001b[0m                                Traceback (most recent call last)",
            "\u001b[0;32m<ipython-input-24-ff53a3d05cbb>\u001b[0m in \u001b[0;36m<module>\u001b[0;34m()\u001b[0m\n\u001b[1;32m      3\u001b[0m \u001b[0;32mfor\u001b[0m \u001b[0mcname\u001b[0m \u001b[0;32min\u001b[0m \u001b[0mclass_names\u001b[0m\u001b[0;34m:\u001b[0m\u001b[0;34m\u001b[0m\u001b[0;34m\u001b[0m\u001b[0m\n\u001b[1;32m      4\u001b[0m     \u001b[0;32mfor\u001b[0m \u001b[0mmfcc\u001b[0m\u001b[0;34m,\u001b[0m \u001b[0mtarget\u001b[0m \u001b[0;32min\u001b[0m \u001b[0mzip\u001b[0m\u001b[0;34m(\u001b[0m\u001b[0mX\u001b[0m\u001b[0;34m[\u001b[0m\u001b[0;34m'test'\u001b[0m\u001b[0;34m]\u001b[0m\u001b[0;34m[\u001b[0m\u001b[0mcname\u001b[0m\u001b[0;34m]\u001b[0m\u001b[0;34m,\u001b[0m \u001b[0my\u001b[0m\u001b[0;34m[\u001b[0m\u001b[0;34m'test'\u001b[0m\u001b[0;34m]\u001b[0m\u001b[0;34m[\u001b[0m\u001b[0mcname\u001b[0m\u001b[0;34m]\u001b[0m\u001b[0;34m)\u001b[0m\u001b[0;34m:\u001b[0m\u001b[0;34m\u001b[0m\u001b[0;34m\u001b[0m\u001b[0m\n\u001b[0;32m----> 5\u001b[0;31m         \u001b[0mscores\u001b[0m \u001b[0;34m=\u001b[0m \u001b[0;34m[\u001b[0m\u001b[0mmodel\u001b[0m\u001b[0;34m[\u001b[0m\u001b[0mcname\u001b[0m\u001b[0;34m]\u001b[0m\u001b[0;34m.\u001b[0m\u001b[0mscore\u001b[0m\u001b[0;34m(\u001b[0m\u001b[0mmfcc\u001b[0m\u001b[0;34m)\u001b[0m \u001b[0;32mfor\u001b[0m \u001b[0mcname\u001b[0m \u001b[0;32min\u001b[0m \u001b[0mclass_names\u001b[0m\u001b[0;34m]\u001b[0m\u001b[0;34m\u001b[0m\u001b[0;34m\u001b[0m\u001b[0m\n\u001b[0m\u001b[1;32m      6\u001b[0m         \u001b[0mpred\u001b[0m \u001b[0;34m=\u001b[0m \u001b[0mnp\u001b[0m\u001b[0;34m.\u001b[0m\u001b[0margmax\u001b[0m\u001b[0;34m(\u001b[0m\u001b[0mscores\u001b[0m\u001b[0;34m)\u001b[0m\u001b[0;34m\u001b[0m\u001b[0;34m\u001b[0m\u001b[0m\n\u001b[1;32m      7\u001b[0m         \u001b[0my_pred\u001b[0m\u001b[0;34m.\u001b[0m\u001b[0mappend\u001b[0m\u001b[0;34m(\u001b[0m\u001b[0mpred\u001b[0m\u001b[0;34m)\u001b[0m\u001b[0;34m\u001b[0m\u001b[0;34m\u001b[0m\u001b[0m\n",
            "\u001b[0;32m<ipython-input-24-ff53a3d05cbb>\u001b[0m in \u001b[0;36m<listcomp>\u001b[0;34m(.0)\u001b[0m\n\u001b[1;32m      3\u001b[0m \u001b[0;32mfor\u001b[0m \u001b[0mcname\u001b[0m \u001b[0;32min\u001b[0m \u001b[0mclass_names\u001b[0m\u001b[0;34m:\u001b[0m\u001b[0;34m\u001b[0m\u001b[0;34m\u001b[0m\u001b[0m\n\u001b[1;32m      4\u001b[0m     \u001b[0;32mfor\u001b[0m \u001b[0mmfcc\u001b[0m\u001b[0;34m,\u001b[0m \u001b[0mtarget\u001b[0m \u001b[0;32min\u001b[0m \u001b[0mzip\u001b[0m\u001b[0;34m(\u001b[0m\u001b[0mX\u001b[0m\u001b[0;34m[\u001b[0m\u001b[0;34m'test'\u001b[0m\u001b[0;34m]\u001b[0m\u001b[0;34m[\u001b[0m\u001b[0mcname\u001b[0m\u001b[0;34m]\u001b[0m\u001b[0;34m,\u001b[0m \u001b[0my\u001b[0m\u001b[0;34m[\u001b[0m\u001b[0;34m'test'\u001b[0m\u001b[0;34m]\u001b[0m\u001b[0;34m[\u001b[0m\u001b[0mcname\u001b[0m\u001b[0;34m]\u001b[0m\u001b[0;34m)\u001b[0m\u001b[0;34m:\u001b[0m\u001b[0;34m\u001b[0m\u001b[0;34m\u001b[0m\u001b[0m\n\u001b[0;32m----> 5\u001b[0;31m         \u001b[0mscores\u001b[0m \u001b[0;34m=\u001b[0m \u001b[0;34m[\u001b[0m\u001b[0mmodel\u001b[0m\u001b[0;34m[\u001b[0m\u001b[0mcname\u001b[0m\u001b[0;34m]\u001b[0m\u001b[0;34m.\u001b[0m\u001b[0mscore\u001b[0m\u001b[0;34m(\u001b[0m\u001b[0mmfcc\u001b[0m\u001b[0;34m)\u001b[0m \u001b[0;32mfor\u001b[0m \u001b[0mcname\u001b[0m \u001b[0;32min\u001b[0m \u001b[0mclass_names\u001b[0m\u001b[0;34m]\u001b[0m\u001b[0;34m\u001b[0m\u001b[0;34m\u001b[0m\u001b[0m\n\u001b[0m\u001b[1;32m      6\u001b[0m         \u001b[0mpred\u001b[0m \u001b[0;34m=\u001b[0m \u001b[0mnp\u001b[0m\u001b[0;34m.\u001b[0m\u001b[0margmax\u001b[0m\u001b[0;34m(\u001b[0m\u001b[0mscores\u001b[0m\u001b[0;34m)\u001b[0m\u001b[0;34m\u001b[0m\u001b[0;34m\u001b[0m\u001b[0m\n\u001b[1;32m      7\u001b[0m         \u001b[0my_pred\u001b[0m\u001b[0;34m.\u001b[0m\u001b[0mappend\u001b[0m\u001b[0;34m(\u001b[0m\u001b[0mpred\u001b[0m\u001b[0;34m)\u001b[0m\u001b[0;34m\u001b[0m\u001b[0;34m\u001b[0m\u001b[0m\n",
            "\u001b[0;32m/usr/local/lib/python3.7/dist-packages/hmmlearn/base.py\u001b[0m in \u001b[0;36mscore\u001b[0;34m(self, X, lengths)\u001b[0m\n\u001b[1;32m    257\u001b[0m         \u001b[0mdecode\u001b[0m \u001b[0;34m:\u001b[0m \u001b[0mFind\u001b[0m \u001b[0mmost\u001b[0m \u001b[0mlikely\u001b[0m \u001b[0mstate\u001b[0m \u001b[0msequence\u001b[0m \u001b[0mcorresponding\u001b[0m \u001b[0mto\u001b[0m\u001b[0;31m \u001b[0m\u001b[0;31m`\u001b[0m\u001b[0;31m`\u001b[0m\u001b[0mX\u001b[0m\u001b[0;31m`\u001b[0m\u001b[0;31m`\u001b[0m\u001b[0;34m.\u001b[0m\u001b[0;34m\u001b[0m\u001b[0;34m\u001b[0m\u001b[0m\n\u001b[1;32m    258\u001b[0m         \"\"\"\n\u001b[0;32m--> 259\u001b[0;31m         \u001b[0;32mreturn\u001b[0m \u001b[0mself\u001b[0m\u001b[0;34m.\u001b[0m\u001b[0m_score\u001b[0m\u001b[0;34m(\u001b[0m\u001b[0mX\u001b[0m\u001b[0;34m,\u001b[0m \u001b[0mlengths\u001b[0m\u001b[0;34m,\u001b[0m \u001b[0mcompute_posteriors\u001b[0m\u001b[0;34m=\u001b[0m\u001b[0;32mFalse\u001b[0m\u001b[0;34m)\u001b[0m\u001b[0;34m[\u001b[0m\u001b[0;36m0\u001b[0m\u001b[0;34m]\u001b[0m\u001b[0;34m\u001b[0m\u001b[0;34m\u001b[0m\u001b[0m\n\u001b[0m\u001b[1;32m    260\u001b[0m \u001b[0;34m\u001b[0m\u001b[0m\n\u001b[1;32m    261\u001b[0m     \u001b[0;32mdef\u001b[0m \u001b[0m_score\u001b[0m\u001b[0;34m(\u001b[0m\u001b[0mself\u001b[0m\u001b[0;34m,\u001b[0m \u001b[0mX\u001b[0m\u001b[0;34m,\u001b[0m \u001b[0mlengths\u001b[0m\u001b[0;34m=\u001b[0m\u001b[0;32mNone\u001b[0m\u001b[0;34m,\u001b[0m \u001b[0;34m*\u001b[0m\u001b[0;34m,\u001b[0m \u001b[0mcompute_posteriors\u001b[0m\u001b[0;34m)\u001b[0m\u001b[0;34m:\u001b[0m\u001b[0;34m\u001b[0m\u001b[0;34m\u001b[0m\u001b[0m\n",
            "\u001b[0;32m/usr/local/lib/python3.7/dist-packages/hmmlearn/base.py\u001b[0m in \u001b[0;36m_score\u001b[0;34m(self, X, lengths, compute_posteriors)\u001b[0m\n\u001b[1;32m    268\u001b[0m         \"\"\"\n\u001b[1;32m    269\u001b[0m         \u001b[0m_utils\u001b[0m\u001b[0;34m.\u001b[0m\u001b[0mcheck_is_fitted\u001b[0m\u001b[0;34m(\u001b[0m\u001b[0mself\u001b[0m\u001b[0;34m,\u001b[0m \u001b[0;34m\"startprob_\"\u001b[0m\u001b[0;34m)\u001b[0m\u001b[0;34m\u001b[0m\u001b[0;34m\u001b[0m\u001b[0m\n\u001b[0;32m--> 270\u001b[0;31m         \u001b[0mself\u001b[0m\u001b[0;34m.\u001b[0m\u001b[0m_check\u001b[0m\u001b[0;34m(\u001b[0m\u001b[0;34m)\u001b[0m\u001b[0;34m\u001b[0m\u001b[0;34m\u001b[0m\u001b[0m\n\u001b[0m\u001b[1;32m    271\u001b[0m \u001b[0;34m\u001b[0m\u001b[0m\n\u001b[1;32m    272\u001b[0m         \u001b[0mX\u001b[0m \u001b[0;34m=\u001b[0m \u001b[0mcheck_array\u001b[0m\u001b[0;34m(\u001b[0m\u001b[0mX\u001b[0m\u001b[0;34m)\u001b[0m\u001b[0;34m\u001b[0m\u001b[0;34m\u001b[0m\u001b[0m\n",
            "\u001b[0;32m/usr/local/lib/python3.7/dist-packages/hmmlearn/hmm.py\u001b[0m in \u001b[0;36m_check\u001b[0;34m(self)\u001b[0m\n\u001b[1;32m    778\u001b[0m \u001b[0;34m\u001b[0m\u001b[0m\n\u001b[1;32m    779\u001b[0m     \u001b[0;32mdef\u001b[0m \u001b[0m_check\u001b[0m\u001b[0;34m(\u001b[0m\u001b[0mself\u001b[0m\u001b[0;34m)\u001b[0m\u001b[0;34m:\u001b[0m\u001b[0;34m\u001b[0m\u001b[0;34m\u001b[0m\u001b[0m\n\u001b[0;32m--> 780\u001b[0;31m         \u001b[0msuper\u001b[0m\u001b[0;34m(\u001b[0m\u001b[0;34m)\u001b[0m\u001b[0;34m.\u001b[0m\u001b[0m_check\u001b[0m\u001b[0;34m(\u001b[0m\u001b[0;34m)\u001b[0m\u001b[0;34m\u001b[0m\u001b[0;34m\u001b[0m\u001b[0m\n\u001b[0m\u001b[1;32m    781\u001b[0m         \u001b[0;32mif\u001b[0m \u001b[0;32mnot\u001b[0m \u001b[0mhasattr\u001b[0m\u001b[0;34m(\u001b[0m\u001b[0mself\u001b[0m\u001b[0;34m,\u001b[0m \u001b[0;34m\"n_features\"\u001b[0m\u001b[0;34m)\u001b[0m\u001b[0;34m:\u001b[0m\u001b[0;34m\u001b[0m\u001b[0;34m\u001b[0m\u001b[0m\n\u001b[1;32m    782\u001b[0m             \u001b[0mself\u001b[0m\u001b[0;34m.\u001b[0m\u001b[0mn_features\u001b[0m \u001b[0;34m=\u001b[0m \u001b[0mself\u001b[0m\u001b[0;34m.\u001b[0m\u001b[0mmeans_\u001b[0m\u001b[0;34m.\u001b[0m\u001b[0mshape\u001b[0m\u001b[0;34m[\u001b[0m\u001b[0;36m2\u001b[0m\u001b[0;34m]\u001b[0m\u001b[0;34m\u001b[0m\u001b[0;34m\u001b[0m\u001b[0m\n",
            "\u001b[0;32m/usr/local/lib/python3.7/dist-packages/hmmlearn/base.py\u001b[0m in \u001b[0;36m_check\u001b[0;34m(self)\u001b[0m\n\u001b[1;32m    660\u001b[0m         \u001b[0;32mif\u001b[0m \u001b[0mlen\u001b[0m\u001b[0;34m(\u001b[0m\u001b[0mself\u001b[0m\u001b[0;34m.\u001b[0m\u001b[0mstartprob_\u001b[0m\u001b[0;34m)\u001b[0m \u001b[0;34m!=\u001b[0m \u001b[0mself\u001b[0m\u001b[0;34m.\u001b[0m\u001b[0mn_components\u001b[0m\u001b[0;34m:\u001b[0m\u001b[0;34m\u001b[0m\u001b[0;34m\u001b[0m\u001b[0m\n\u001b[1;32m    661\u001b[0m             \u001b[0;32mraise\u001b[0m \u001b[0mValueError\u001b[0m\u001b[0;34m(\u001b[0m\u001b[0;34m\"startprob_ must have length n_components\"\u001b[0m\u001b[0;34m)\u001b[0m\u001b[0;34m\u001b[0m\u001b[0;34m\u001b[0m\u001b[0m\n\u001b[0;32m--> 662\u001b[0;31m         \u001b[0mself\u001b[0m\u001b[0;34m.\u001b[0m\u001b[0m_check_sum_1\u001b[0m\u001b[0;34m(\u001b[0m\u001b[0;34m\"startprob_\"\u001b[0m\u001b[0;34m)\u001b[0m\u001b[0;34m\u001b[0m\u001b[0;34m\u001b[0m\u001b[0m\n\u001b[0m\u001b[1;32m    663\u001b[0m \u001b[0;34m\u001b[0m\u001b[0m\n\u001b[1;32m    664\u001b[0m         \u001b[0mself\u001b[0m\u001b[0;34m.\u001b[0m\u001b[0mtransmat_\u001b[0m \u001b[0;34m=\u001b[0m \u001b[0mnp\u001b[0m\u001b[0;34m.\u001b[0m\u001b[0masarray\u001b[0m\u001b[0;34m(\u001b[0m\u001b[0mself\u001b[0m\u001b[0;34m.\u001b[0m\u001b[0mtransmat_\u001b[0m\u001b[0;34m)\u001b[0m\u001b[0;34m\u001b[0m\u001b[0;34m\u001b[0m\u001b[0m\n",
            "\u001b[0;32m/usr/local/lib/python3.7/dist-packages/hmmlearn/base.py\u001b[0m in \u001b[0;36m_check_sum_1\u001b[0;34m(self, name)\u001b[0m\n\u001b[1;32m    645\u001b[0m                 \u001b[0;34mf\"{name} must sum to 1 (got {s:.4f})\"\u001b[0m \u001b[0;32mif\u001b[0m \u001b[0ms\u001b[0m\u001b[0;34m.\u001b[0m\u001b[0mndim\u001b[0m \u001b[0;34m==\u001b[0m \u001b[0;36m0\u001b[0m \u001b[0;32melse\u001b[0m\u001b[0;34m\u001b[0m\u001b[0;34m\u001b[0m\u001b[0m\n\u001b[1;32m    646\u001b[0m                 \u001b[0;34mf\"{name} rows must sum to 1 (got {s})\"\u001b[0m \u001b[0;32mif\u001b[0m \u001b[0ms\u001b[0m\u001b[0;34m.\u001b[0m\u001b[0mndim\u001b[0m \u001b[0;34m==\u001b[0m \u001b[0;36m1\u001b[0m \u001b[0;32melse\u001b[0m\u001b[0;34m\u001b[0m\u001b[0;34m\u001b[0m\u001b[0m\n\u001b[0;32m--> 647\u001b[0;31m                 \"Expected 1D or 2D array\")\n\u001b[0m\u001b[1;32m    648\u001b[0m \u001b[0;34m\u001b[0m\u001b[0m\n\u001b[1;32m    649\u001b[0m     \u001b[0;32mdef\u001b[0m \u001b[0m_check\u001b[0m\u001b[0;34m(\u001b[0m\u001b[0mself\u001b[0m\u001b[0;34m)\u001b[0m\u001b[0;34m:\u001b[0m\u001b[0;34m\u001b[0m\u001b[0;34m\u001b[0m\u001b[0m\n",
            "\u001b[0;31mValueError\u001b[0m: startprob_ must sum to 1 (got nan)"
          ]
        }
      ]
    },
    {
      "cell_type": "code",
      "source": [
        "report = classification_report(y_true, y_pred, target_names=class_names)\n",
        "print(report)"
      ],
      "metadata": {
        "id": "AMzLqtJJTl25"
      },
      "execution_count": null,
      "outputs": []
    },
    {
      "cell_type": "code",
      "source": [
        "model_train = {}\n",
        "for key in class_names:\n",
        "    name = f\"/content/models_train\\model_{key}.pkl\"\n",
        "    with open(name, 'rb') as file:\n",
        "        model_train[key] = pickle.load(file)\n",
        "print(model_train)"
      ],
      "metadata": {
        "id": "Xo_Y74-ZTpog"
      },
      "execution_count": null,
      "outputs": []
    }
  ]
}